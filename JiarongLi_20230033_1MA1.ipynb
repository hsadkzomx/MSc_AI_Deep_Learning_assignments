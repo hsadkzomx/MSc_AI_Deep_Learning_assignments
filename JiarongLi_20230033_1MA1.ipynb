{
 "cells": [
  {
   "cell_type": "markdown",
   "id": "f8d513f2-c182-429b-b2e1-af5247920b6a",
   "metadata": {},
   "source": [
    "# CT5133 Deep Learning Assignment 1\n",
    "\n",
    "**Jiarong Li**\n",
    "\n",
    "**20230033**\n",
    "\n",
    "**1MAI1**"
   ]
  },
  {
   "cell_type": "markdown",
   "id": "d799bd99-982a-4351-81f3-42d23f4b1613",
   "metadata": {
    "tags": []
   },
   "source": [
    "## Part 1: Implement Logistic Regression\n",
    "\n",
    "**Description**\n",
    "\n",
    "* Use Jupyter Notebook (Python or R) to implement a neural network approach to logistic regression (no hidden layers, one output node)\n",
    "\n",
    "* Your code must handle different numbers of inputs and different numbers of training cases, but you don't have to support more than one output node\n",
    "\n",
    "**Marking scheme**\n",
    "\n",
    "* 1: Brief description of algorithm, including references to sources used.\n",
    "\n",
    "* 3: Correct implementation of logistic regression (single-node neural net), including correct implementation of gradient descent, able to handle different numbers of training cases and different numbers of attributes."
   ]
  },
  {
   "cell_type": "markdown",
   "id": "afee41aa-316d-4e4a-910e-802a3f95944e",
   "metadata": {},
   "source": [
    "### 1.1 Importing libraries\n",
    "\n",
    "Source of this code is from Michael Madden."
   ]
  },
  {
   "cell_type": "code",
   "execution_count": 1,
   "id": "85b68d8b-6b2f-46bc-a3c3-bdbadeee376b",
   "metadata": {},
   "outputs": [],
   "source": [
    "# Packages imports\n",
    "import matplotlib\n",
    "import matplotlib.pyplot as plt\n",
    "import sklearn\n",
    "import sklearn.datasets\n",
    "import pandas as pd\n",
    "import numpy as np\n",
    "\n",
    "import random\n",
    "import math\n",
    "\n",
    "from tqdm import tqdm\n",
    "import time\n",
    "\n",
    "# Display plots inline and change default figure size\n",
    "%matplotlib inline"
   ]
  },
  {
   "cell_type": "markdown",
   "id": "e5ab014e-9b9f-4dea-a0f6-f87b424b9324",
   "metadata": {},
   "source": [
    "### 1.2 Binary Logistic Regression Corresponds to a Single-Node Neural Network\n",
    "\n",
    "#### 1: Brief description of algorithm, including references to sources used.\n",
    "\n",
    "Logistic Regression is a classifier of finding the decision boundary by using the equation:\n",
    "\n",
    "$$\n",
    "\\hat y=a_{w,b}(x)=f(w\\cdot x+b)\n",
    "$$\n",
    "\n",
    "where $\\hat y$ denotes the predicted result, $a$ represents the activation function, which needs to be differentiable for gradient descent, $w$ and $b$ are corresponding to the weights and bias, $x$ represents the input attributes.\n",
    "\n",
    "\n",
    "In this assignment, I use the sigmoid function as the activation function as it can convert the straight line equation into $0$ or $1$ values and it is differentiable. The equation is:\n",
    "$$\n",
    "f(z)=\\frac{1}{1+e^{-z}}\n",
    "$$\n",
    "where $z$ denotes the straight line equation.\n",
    "\n",
    "\n",
    "In this assignment, the binary logistic regression was implemented by using the Log Loss function and Stochastic Gradient Decent algorithm to find the optimal weights and bias.\n",
    "\n",
    "\n",
    "Reference: CT5133 Deep Learning tutorial.\n",
    " \n",
    "#### 2: Implementation"
   ]
  },
  {
   "cell_type": "code",
   "execution_count": 2,
   "id": "daa5edfc-652b-4210-97aa-481c75162750",
   "metadata": {},
   "outputs": [],
   "source": [
    "# Initialise hyperparameter\n",
    "alpha = 0.001\n",
    "max_iterations = 2\n",
    "num_epoch = 5\n",
    "threshold = 1e-6\n",
    "random.seed(2023)\n",
    "\n",
    "classifier_threshold = 0.5\n",
    "\n",
    "test_ratio = 0.15\n",
    "val_ratio = 0.15\n",
    "\n",
    "num_hidden_layers = 3\n",
    "num_neuron = 3\n",
    "epsilon = 1e-6"
   ]
  },
  {
   "cell_type": "code",
   "execution_count": 3,
   "id": "27cb5849-6a7a-4ece-8fce-c54153563db9",
   "metadata": {},
   "outputs": [],
   "source": [
    "# Single node logistic regression\n",
    "def singleNodeLR(\n",
    "                 X, # input attributes\n",
    "                 y, # labels\n",
    "                 alpha = alpha,\n",
    "                 #max_iterations = max_iterations,\n",
    "                 threshold = threshold,\n",
    "                ):\n",
    "    \n",
    "    # initialse weights and bias\n",
    "    w = np.random.normal(size=X[0].shape) \n",
    "    b = np.random.normal()\n",
    "      \n",
    "    J_prev = 0.0\n",
    "    J_curr = 0.0\n",
    "    \n",
    "    cost = 0.0\n",
    "       \n",
    "    # Loop for max_iterations\n",
    "    for i in range(len(X)):\n",
    "        \n",
    "        # single example from training set selected at random\n",
    "        idx = random.randrange(0, len(X), 1)\n",
    "        x_idx = X[idx]\n",
    "        y_idx = y[idx][0]\n",
    "        \n",
    "        delta_w = np.zeros(x_idx.shape)\n",
    "        \n",
    "        # Forward propagation stage\n",
    "        z = w @ x_idx + b\n",
    "        y_hat = 1 / (1 + math.exp(-z)) # calculate y_hat\n",
    "        J_curr = -(y_idx * math.log(y_hat) + (1 - y_idx) * math.log(1 - y_hat)) \n",
    "        \n",
    "        if abs(J_prev - J_curr) <= threshold: # Compare J_curr with J_prev: break from loop if convergence is reached\n",
    "            break\n",
    "             \n",
    "        # Gradient Descent stage\n",
    "        for j,_ in enumerate(w):\n",
    "            delta_w[j] = (y_hat - y_idx) * x_idx[j] \n",
    "        \n",
    "        delta_b = y_hat - y_idx\n",
    "        \n",
    "        for j in range(len(w)):\n",
    "            w[j] -= alpha * delta_w[j]\n",
    "            \n",
    "        b -= alpha * delta_b\n",
    "    \n",
    "        cost += J_curr \n",
    "        J_prev = J_curr\n",
    "                \n",
    "    return w, b, cost"
   ]
  },
  {
   "cell_type": "markdown",
   "id": "d2132ce8-251a-4de1-bca0-e9633d4a9f14",
   "metadata": {},
   "source": [
    "## Part 2: Easy Tasks\n",
    "\n",
    "* 1: Code to read in a dataset with variable number of training cases and attributes, and divide it into a training set, validation set and testing set.\n",
    "* 1: Blobs dataset: train the logistic regressor, use the validation set if needed, and test on the test set. Present results and observations on them.\n",
    "* 1: Moons dataset: train the logistic regressor, use the validation set if needed, and test on the test set. Present results and observations on them."
   ]
  },
  {
   "cell_type": "markdown",
   "id": "36609f49-1b97-4654-a8f6-338992c2d115",
   "metadata": {},
   "source": [
    "### 2.1 Loading Dataset"
   ]
  },
  {
   "cell_type": "code",
   "execution_count": 4,
   "id": "17746336-442a-41f4-8278-625ed87c7ae4",
   "metadata": {
    "tags": []
   },
   "outputs": [],
   "source": [
    "# code source: sample code written by Michael Madden.\n",
    "\n",
    "def loadDataset(data_path, transpose=False):\n",
    "    # use pandas to read the CSV file as a dataframe\n",
    "    df = pd.read_csv(data_path)\n",
    "    \n",
    "    # The y values are those labelled 'Class': extract their values\n",
    "    y = df['Class'].values\n",
    "    \n",
    "    # The x values are all other columns\n",
    "    del df['Class'] # drop the 'Class' column from the dataframe\n",
    "    X = df.values # convert the remaining columns to a numpy array\n",
    "    \n",
    "    if transpose is True:\n",
    "        # transpose the y data using 'reshape'\n",
    "        y = np.reshape(y, (len(y), 1))\n",
    "    \n",
    "    return X, y"
   ]
  },
  {
   "cell_type": "markdown",
   "id": "66d34f03-ebfe-4544-b8d8-6b21b3b9288a",
   "metadata": {},
   "source": [
    "### 2.2 Dividing dataset into training set, validation set and test set."
   ]
  },
  {
   "cell_type": "code",
   "execution_count": 5,
   "id": "48f56f19-fde1-40fb-89b1-634c639bf104",
   "metadata": {
    "tags": []
   },
   "outputs": [],
   "source": [
    "def split_train_test(X,\n",
    "                     y,\n",
    "                     test_ratio = test_ratio,\n",
    "                     #train_test_seed = 123\n",
    "                    ):\n",
    "    \n",
    "    idx = np.random.permutation(X.shape[0]) \n",
    "    sample = int(test_ratio * len(X))\n",
    "    train_idx, test_idx = idx[sample:], idx[:sample]\n",
    "    X_train, X_test, y_train, y_test = X[train_idx,:], X[test_idx,:], y[train_idx,], y[test_idx,]\n",
    "\n",
    "    return X_train, X_test, y_train, y_test"
   ]
  },
  {
   "cell_type": "markdown",
   "id": "79ec6744-8762-4ff5-aef2-94fdfbd03805",
   "metadata": {},
   "source": [
    "### Normalize the data"
   ]
  },
  {
   "cell_type": "code",
   "execution_count": 6,
   "id": "96ddbe94-5d25-4415-9c17-c6b5bad323c4",
   "metadata": {},
   "outputs": [],
   "source": [
    "# normalise the values in the dataset as we met a math range error problem\n",
    "# Practical note: always good to normalize NN inputs (0-1 or z-Norm)\n",
    "def zero_one_normalize(x):\n",
    "      \n",
    "    x = (x - np.min(x)) / (np.max(x) - np.min(x))\n",
    "    \n",
    "    return x"
   ]
  },
  {
   "cell_type": "markdown",
   "id": "f46bbf76-14d7-4b52-90fd-baccb1444101",
   "metadata": {},
   "source": [
    "### Train one epoch"
   ]
  },
  {
   "cell_type": "code",
   "execution_count": 7,
   "id": "82158665-896a-4dbf-8129-f666b169ee93",
   "metadata": {},
   "outputs": [],
   "source": [
    "def train_one_epoch(X_train,\n",
    "                    y_train,\n",
    "                    test_ratio,\n",
    "                    alpha,\n",
    "                    threshold\n",
    "                   ):\n",
    "    \n",
    "    train_cost = 0.0\n",
    "    train_cost_avg = 0.0\n",
    "    val_cost = 0.0\n",
    "    val_cost_avg = 0.0\n",
    " \n",
    "    # load training and validation dataset\n",
    "    X_train, X_val, y_train, y_val = split_train_test(X_train, y_train, test_ratio = test_ratio)\n",
    "    \n",
    "    # training\n",
    "    for i in range(len(X_train)):\n",
    "        w, b, cost = singleNodeLR(X_train, \n",
    "                                    y_train, \n",
    "                                    alpha = alpha,\n",
    "                                    threshold = threshold,\n",
    "                                   )\n",
    "        train_cost += cost\n",
    "        \n",
    "    # validation\n",
    "    for i in range(len(X_val)):\n",
    "        z = w @ X[i] + b\n",
    "        y_hat = 1 / (1 + math.exp(-z)) # calculate y_hat\n",
    "        J_curr = -(y[i][0] * math.log(y_hat) + (1 - y[i][0]) * math.log(1 - y_hat))\n",
    "\n",
    "        val_cost += J_curr    \n",
    "    \n",
    "    train_cost_avg = train_cost / len(X_train)\n",
    "    val_cost_avg = val_cost / len(X_val)\n",
    "    \n",
    "    return train_cost_avg, val_cost_avg, w, b"
   ]
  },
  {
   "cell_type": "markdown",
   "id": "8ae7a694-ed5c-4256-8bab-720e4ba7cd7d",
   "metadata": {},
   "source": [
    "### Train multiple epochs"
   ]
  },
  {
   "cell_type": "code",
   "execution_count": 8,
   "id": "aef7e6a2-fa4d-45d0-986c-f237b5c6d16d",
   "metadata": {},
   "outputs": [],
   "source": [
    "def train_multiple_epochs(X_train, \n",
    "                          y_train, \n",
    "                          test_ratio,\n",
    "                          alpha,\n",
    "                          threshold,\n",
    "                          num_epoch):\n",
    "    \n",
    "    train_cost_avg_hist = []\n",
    "    val_cost_avg_hist = []\n",
    "    ws = []\n",
    "    bs = []\n",
    "    \n",
    "    for epoch in range(num_epoch):\n",
    "        train_cost_avg, val_cost_avg, w, b = train_one_epoch(X_train, y_train, test_ratio, alpha, threshold)\n",
    "    \n",
    "        print(f\"Epoch [{epoch+1}/{num_epoch}]: Train mean cost: {train_cost_avg}, Validation mean cost: {val_cost_avg}\")\n",
    "        \n",
    "        train_cost_avg_hist.append(train_cost_avg)\n",
    "        val_cost_avg_hist.append(val_cost_avg)\n",
    "        ws.append(w)\n",
    "        bs.append(b)\n",
    "        \n",
    "    best_idx = np.argmin(val_cost_avg_hist)\n",
    "        \n",
    "    return ws[best_idx], bs[best_idx], val_cost_avg_hist[best_idx]"
   ]
  },
  {
   "cell_type": "markdown",
   "id": "f91163b8-6175-44c1-8206-ec823d400ae5",
   "metadata": {},
   "source": [
    "### Evaluation"
   ]
  },
  {
   "cell_type": "code",
   "execution_count": 9,
   "id": "bef2fe5a-b784-433a-a0fd-c46aacde7af0",
   "metadata": {},
   "outputs": [],
   "source": [
    "def evaluate(preds, y, classifier_threshold):\n",
    "    \n",
    "    assert(len(preds) == len(y))\n",
    "    \n",
    "    tp = 0.0\n",
    "    tn = 0.0\n",
    "    fp = 0.0\n",
    "    fn = 0.0\n",
    "    \n",
    "    preds_label = 0\n",
    "    preds_labels = []\n",
    "    \n",
    "    for i, pred in enumerate(preds):\n",
    "        if abs(pred - y[i]) <= 0.5:\n",
    "            preds_label = y[i]\n",
    "            preds_labels.append(preds_label)\n",
    "            \n",
    "    for i, preds_label in enumerate(preds_labels):\n",
    "        if preds_label == y[i] == 0:\n",
    "            tp += 1\n",
    "        elif preds_label == y[i] == 1:\n",
    "            tn += 1\n",
    "        elif preds_label == 0 and y[i] == 1:\n",
    "            fp += 1\n",
    "        elif preds_label == 1 and y[i] == 0:\n",
    "            fn += 1\n",
    "    \n",
    "    precision = tp / (tp + fp + epsilon)\n",
    "    recall = tp / (tp + fn + epsilon)\n",
    "    accuracy = (tp + tn) / (tp + tn + fp + fn + epsilon)\n",
    "    f1 = (2 * tp) / (2 * tp + fp + fn + epsilon)\n",
    "    \n",
    "    return precision, recall, accuracy, f1"
   ]
  },
  {
   "cell_type": "markdown",
   "id": "82087ddf-89fe-4664-ba77-86677f877872",
   "metadata": {},
   "source": [
    "### Test"
   ]
  },
  {
   "cell_type": "code",
   "execution_count": 10,
   "id": "f07790f0-d60b-49b5-8419-573fc5366f30",
   "metadata": {},
   "outputs": [],
   "source": [
    "def test(X_test, y_test, best_w, best_b):\n",
    "    cost = []\n",
    "    preds = []\n",
    "    X_test = zero_one_normalize(X_test)\n",
    "    \n",
    "    for i in range(len(X_test)):\n",
    "        z = best_w @ X_test[i] + best_b\n",
    "        y_hat = 1 / (1 + math.exp(-z)) # calculate y_hat\n",
    "        J_curr = -(y[i][0] * math.log(y_hat) + (1 - y[i][0]) * math.log(1 - y_hat))\n",
    "\n",
    "        cost.append(abs(J_curr))\n",
    "        preds.append(y_hat)\n",
    "    \n",
    "    # confusion matrix\n",
    "    precision, recall, accuracy, f1 = evaluate(preds, y_test, classifier_threshold=classifier_threshold)\n",
    "    \n",
    "    print(f\"\\n\\nClassification report:  precision: {precision:.2f}, recall: {recall:.2f}, accuracy: {accuracy:.2f}, f1: {f1:.2f}\\n\")"
   ]
  },
  {
   "cell_type": "markdown",
   "id": "4af965d4-c743-44b8-a14d-55928b0fb3d5",
   "metadata": {},
   "source": [
    "### 2.3 Blobs dataset\n",
    "\n",
    "#### Train the logistic regressor, use the validation set if needed, and test on the test set. Present results and observations on them"
   ]
  },
  {
   "cell_type": "code",
   "execution_count": 11,
   "id": "540de62f-bafc-46aa-abce-f5e683563698",
   "metadata": {},
   "outputs": [
    {
     "name": "stdout",
     "output_type": "stream",
     "text": [
      "(289, 3) (289, 1) (51, 3) (51, 1) (60, 3) (60, 1)\n",
      "X.shape = (400, 3), y.shape = (400, 1), Classes = [0 1]\n"
     ]
    }
   ],
   "source": [
    "# load moon dataset \n",
    "X, y = loadDataset('blobs400.csv', transpose=True)\n",
    "\n",
    "# split it into train, validation and test dataset \n",
    "X_train, X_test, y_train, y_test = split_train_test(X, y, test_ratio=test_ratio)\n",
    "X_train, X_val, y_train, y_val = split_train_test(X_train, y_train, test_ratio=val_ratio)\n",
    "\n",
    "print(X_train.shape, y_train.shape, X_val.shape, y_val.shape, X_test.shape, y_test.shape)\n",
    "print(f\"X.shape = {X.shape}, y.shape = {y.shape}, Classes = {np.unique(y)}\")"
   ]
  },
  {
   "cell_type": "code",
   "execution_count": 12,
   "id": "0cfb5a57-3ce2-4b4d-b625-15cf4f25eac5",
   "metadata": {},
   "outputs": [
    {
     "name": "stdout",
     "output_type": "stream",
     "text": [
      "Epoch [1/5]: Train mean cost: 311.59076532569173, Validation mean cost: 1.3828556132155343\n",
      "Epoch [2/5]: Train mean cost: 320.335197620276, Validation mean cost: 1.4461493323713146\n",
      "Epoch [3/5]: Train mean cost: 294.95740076407026, Validation mean cost: 0.9542190489032816\n",
      "Epoch [4/5]: Train mean cost: 325.74015520050887, Validation mean cost: 1.751082210995327\n",
      "Epoch [5/5]: Train mean cost: 331.5319447620745, Validation mean cost: 0.5332733529382775\n",
      "best_w: [-0.59958113 -1.58792345  0.32419377], best_b: 1.7972628105756832, lowest mean validation cost: 0.5332733529382775\n"
     ]
    }
   ],
   "source": [
    "# training and validation\n",
    "best_w, best_b, val_cost_avg_lowest = train_multiple_epochs(X_train, \n",
    "                                      y_train, \n",
    "                                      test_ratio=test_ratio, \n",
    "                                      num_epoch=num_epoch, \n",
    "                                      alpha=alpha, \n",
    "                                      #max_iterations=max_iterations, \n",
    "                                      threshold=threshold)\n",
    "\n",
    "print(f\"best_w: {best_w}, best_b: {best_b}, lowest mean validation cost: {val_cost_avg_lowest}\")"
   ]
  },
  {
   "cell_type": "code",
   "execution_count": 13,
   "id": "07e9bef9-59de-4359-9492-3ef7c38a546d",
   "metadata": {},
   "outputs": [
    {
     "name": "stdout",
     "output_type": "stream",
     "text": [
      "\n",
      "\n",
      "Classification report:  precision: 0.50, recall: 0.06, accuracy: 0.48, f1: 0.11\n",
      "\n"
     ]
    }
   ],
   "source": [
    "# testing\n",
    "test(X_test, y_test, best_w, best_b)"
   ]
  },
  {
   "cell_type": "markdown",
   "id": "a3599a53-9680-43ad-b906-ae12b88baed6",
   "metadata": {},
   "source": [
    "There are $400$ data in Blobs dataset with $3$ attributes and $1$ label for each data. We separate the dataset into a training set ($70\\%$), validation set ($15\\%$) and testing set ($15\\%$). I trained the logistic regression node for $5$ epochs with the length of training data times per epoch. The precision value is $0.5$, the recall value is $0.06$, the accuracy value is $0.48$ and the f1 score is $0.11$."
   ]
  },
  {
   "cell_type": "markdown",
   "id": "1b596d9a-2add-411a-9229-12ee89361d26",
   "metadata": {},
   "source": [
    "### 2.4 Moons dataset\n",
    "\n",
    "#### Train the logistic regressor, use the validation set if needed, and test on the test set. Present results and observations on them."
   ]
  },
  {
   "cell_type": "code",
   "execution_count": 14,
   "id": "80273dd3-3e11-451f-940f-37eb3a3614a2",
   "metadata": {},
   "outputs": [
    {
     "name": "stdout",
     "output_type": "stream",
     "text": [
      "(362, 2) (362, 1) (63, 2) (63, 1) (75, 2) (75, 1)\n",
      "X.shape = (500, 2), y.shape = (500, 1), Classes = [0 1]\n"
     ]
    }
   ],
   "source": [
    "# load moon dataset \n",
    "X, y = loadDataset('moons500.csv', transpose=True)\n",
    "\n",
    "# split it into train, validation and test dataset \n",
    "X_train, X_test, y_train, y_test = split_train_test(X, y, test_ratio=test_ratio)\n",
    "X_train, X_val, y_train, y_val = split_train_test(X_train, y_train, test_ratio=val_ratio)\n",
    "\n",
    "print(X_train.shape, y_train.shape, X_val.shape, y_val.shape, X_test.shape, y_test.shape)\n",
    "print(f\"X.shape = {X.shape}, y.shape = {y.shape}, Classes = {np.unique(y)}\")"
   ]
  },
  {
   "cell_type": "code",
   "execution_count": 15,
   "id": "ec458c23-7808-449d-8cc5-f9fdfaaafc71",
   "metadata": {},
   "outputs": [
    {
     "name": "stdout",
     "output_type": "stream",
     "text": [
      "Epoch [1/5]: Train mean cost: 284.6438414240878, Validation mean cost: 0.902803128704712\n",
      "Epoch [2/5]: Train mean cost: 279.03353013178463, Validation mean cost: 0.6850036480611864\n",
      "Epoch [3/5]: Train mean cost: 270.2455036688216, Validation mean cost: 0.7049283305331882\n",
      "Epoch [4/5]: Train mean cost: 272.3554845188792, Validation mean cost: 0.6275679955096657\n",
      "Epoch [5/5]: Train mean cost: 279.496933052178, Validation mean cost: 1.303215280668152\n",
      "best_w: [ 0.92665592 -0.19270235], best_b: 0.7965577695726962, lowest mean validation cost: 0.6275679955096657\n"
     ]
    }
   ],
   "source": [
    "# training and validation\n",
    "best_w, best_b, val_cost_avg_lowest = train_multiple_epochs(X_train, \n",
    "                                      y_train, \n",
    "                                      test_ratio=test_ratio, \n",
    "                                      num_epoch=num_epoch, \n",
    "                                      alpha=alpha, \n",
    "                                      #max_iterations=max_iterations, \n",
    "                                      threshold=threshold)\n",
    "\n",
    "print(f\"best_w: {best_w}, best_b: {best_b}, lowest mean validation cost: {val_cost_avg_lowest}\")"
   ]
  },
  {
   "cell_type": "code",
   "execution_count": 16,
   "id": "47036256-c11e-47b3-8dc4-25cf5bb44d0c",
   "metadata": {},
   "outputs": [
    {
     "name": "stdout",
     "output_type": "stream",
     "text": [
      "\n",
      "\n",
      "Classification report:  precision: 0.00, recall: 0.00, accuracy: 0.40, f1: 0.00\n",
      "\n"
     ]
    }
   ],
   "source": [
    "# testing\n",
    "test(X_test, y_test, best_w, best_b)"
   ]
  },
  {
   "cell_type": "markdown",
   "id": "d146d929-3234-4367-a225-05bb43843ce2",
   "metadata": {},
   "source": [
    "There are $500$ data in Blobs dataset with $2$ attributes and $1$ label for each data. We separate the dataset into a training set ($70\\%$), validation set ($15\\%$) and testing set ($15\\%$). I trained the logistic regression node for $5$ epochs with the length of training data times per epoch. The precision value is $0.00$, the recall value is $0.00$, the accuracy value is $0.40$ and the f1 score is $0.00$."
   ]
  },
  {
   "cell_type": "markdown",
   "id": "04d26f96-db08-4e23-b9ef-4bba4103f3d5",
   "metadata": {},
   "source": [
    "## Part 3 – Implement Shallow NN: 5 marks\n",
    "\n",
    "* Brief description of algorithm, including references to sources used.\n",
    "    \n",
    "* Correct implementation of a feed-forward neural network with 1 hidden layer and a standard kernel such as sigmoid, including backprop, extending your previous implementation of logistic regression.\n",
    "    \n",
    "* Train and test on the Blobs and Moons datasets, present results, and make observations on results."
   ]
  },
  {
   "cell_type": "markdown",
   "id": "f68f73cc-e411-4534-90ef-1461752b442b",
   "metadata": {},
   "source": [
    "### 3.1 Brief description of algorithm, including references to sources used."
   ]
  },
  {
   "cell_type": "markdown",
   "id": "6ed8a828-0d6b-4dcf-bf19-71f42135bf0e",
   "metadata": {},
   "source": [
    "There is an input layer, a hidden layer with a customised number of neuron nodes, and an output layer with an output neuron node in this Shallow NN model. \n",
    "\n",
    "In each neuron node instance, there are feedforward() function to save the parameters and output, gradient_descent() function to calculate the delta_w and delta_b by using the derivative of activation function, and update_parameter() function to update the parameters of each neuron instance.\n",
    "\n",
    "This Shallow NN model is trained with forward_propagation() and backpropagation() functions by using the chain rule of calculating the partial derivative of the parameters in each neuron instance. There is a predict() function to predict the unseen data."
   ]
  },
  {
   "cell_type": "markdown",
   "id": "2cdbe767-6e0c-4c58-bba2-a5d0ef5840c9",
   "metadata": {},
   "source": [
    "### 3.2 Logistic regression with 1 hidden layer "
   ]
  },
  {
   "cell_type": "markdown",
   "id": "20d98afa-9522-4f2d-8c95-2b37b0e9d599",
   "metadata": {},
   "source": [
    "#### 3.2.1 Entend the code of singleNodeLR from part 1"
   ]
  },
  {
   "cell_type": "code",
   "execution_count": 17,
   "id": "1e846118-2be5-49c5-b2f8-22bfe4621191",
   "metadata": {},
   "outputs": [],
   "source": [
    "class SingleNeuronLR():\n",
    "    \n",
    "    def __init__(self, \n",
    "                 output_layer = True,\n",
    "                 **kwargs,\n",
    "                ):\n",
    "        \n",
    "        self.output_layer = output_layer\n",
    "        self.alpha = alpha        \n",
    "        \n",
    "    def sigmoid(self, z):\n",
    "        \n",
    "        try:\n",
    "            a = 1 / (1 + math.exp(-z))\n",
    "        except OverflowError:\n",
    "            a = float('inf')\n",
    "         \n",
    "        return a\n",
    "    \n",
    "    def derivative_sigmoid(self, z):\n",
    "        derivate_z = self.sigmoid(z) * (1 - self.sigmoid(z))\n",
    "        return derivate_z\n",
    "        \n",
    "    def feedforward(self, x_idx, y_idx):\n",
    "        \n",
    "        self.x_idx = x_idx\n",
    "        self.y_idx = y_idx\n",
    "        \n",
    "        # initialse weights and bias\n",
    "        self.w = np.random.normal(size=(len(self.x_idx), 1))\n",
    "        self.b = np.random.normal()\n",
    "        \n",
    "        self.delta_w = np.zeros(self.x_idx.shape)\n",
    "        self.delta_b = 0\n",
    "                \n",
    "        self.z = self.w.T @ self.x_idx + self.b\n",
    "        self.a = self.sigmoid(self.z)\n",
    "        \n",
    "        return self.w, self.b, self.z, self.a\n",
    "    \n",
    "    def gradient_descent(self):\n",
    "        \n",
    "        if self.output_layer == True:\n",
    "            \n",
    "            for i,_ in enumerate(self.w):\n",
    "                self.delta_z = self.a - self.y_idx\n",
    "                self.delta_w[i] = self.delta_z * self.x_idx[i] \n",
    "\n",
    "            self.delta_b = self.delta_z\n",
    "            \n",
    "        else:\n",
    "            for j,_ in enumerate(self.w):\n",
    "                self.delta_z = self.derivative_sigmoid(self.z) * sum((self.a - self.y_idx) * self.w)\n",
    "                self.delta_w[j] = self.delta_z * self.x_idx[j]\n",
    "               \n",
    "            self.delta_b = self.delta_z\n",
    "            \n",
    "    def update_parameters(self):\n",
    "        for j in range(len(self.w)):\n",
    "            self.w[j] -= self.alpha * self.delta_w[j]\n",
    "            \n",
    "        self.b -= self.alpha * self.delta_b"
   ]
  },
  {
   "cell_type": "markdown",
   "id": "b9ee141f-dd69-4ae2-a793-a551e2d07cbd",
   "metadata": {},
   "source": [
    "#### 3.2.2 Shallow NN"
   ]
  },
  {
   "cell_type": "code",
   "execution_count": 18,
   "id": "8adaeffb-de6f-4417-a77b-4d94844557cf",
   "metadata": {},
   "outputs": [],
   "source": [
    "class ShallowNN():\n",
    "    \n",
    "    def __init__(self,\n",
    "                 num_neuron = num_neuron,\n",
    "                 **kwargs,\n",
    "                 ):\n",
    "        \n",
    "        self.num_neuron = num_neuron\n",
    "\n",
    "        self.a_list = []\n",
    "        self.srl_list = []\n",
    "        \n",
    "        for i in range(self.num_neuron):\n",
    "            slr = SingleNeuronLR(output_layer=False)\n",
    "            self.srl_list.append(slr)\n",
    "\n",
    "        # output layer with one neuron\n",
    "        self.output_slr = SingleNeuronLR(output_layer=True)\n",
    "        \n",
    "    def forward_propagation(self, x_idx, y_idx):\n",
    "        \n",
    "        # first hidden layer\n",
    "        for i in range(len(self.srl_list)):\n",
    "            self.w, self.b, self.z, self.a = self.srl_list[i].feedforward(x_idx, y_idx)\n",
    "            self.a_list.append(self.a)\n",
    "\n",
    "        self.w, self.b, self.z, self.a = self.output_slr.feedforward(x_idx=np.asarray(self.a_list[-self.num_neuron:]), y_idx=y_idx)\n",
    "        self.a_list.append(self.a)\n",
    "\n",
    "            \n",
    "    def backpropagation(self):\n",
    "        \n",
    "        # output layer\n",
    "        self.output_slr.gradient_descent()\n",
    "        self.output_slr.update_parameters()\n",
    "        \n",
    "        # hidden layer\n",
    "        for i in range(len(self.srl_list)):\n",
    "            self.srl_list[i].gradient_descent()\n",
    "            self.srl_list[i].update_parameters()\n",
    "        \n",
    "    def fit(self, x_idx, y_idx):\n",
    "        \n",
    "        self.x_idx = x_idx\n",
    "        self.y_idx = y_idx\n",
    "        \n",
    "        self.forward_propagation(self.x_idx, self.y_idx)\n",
    "        self.backpropagation()\n",
    "            \n",
    "    def predict(self, x_idx):\n",
    "        \n",
    "        # hidden layer\n",
    "        pred_hidden_list = []\n",
    "        for i in range(len(self.srl_list)):\n",
    "            _, _, _, pred_hidden = self.srl_list[i].feedforward(x_idx= x_idx, y_idx=self.y_idx)\n",
    "            pred_hidden_list.append(pred_hidden)\n",
    "            \n",
    "        # output layer\n",
    "        _, _, _, pred = self.output_slr.feedforward(x_idx = np.asarray(pred_hidden_list), y_idx=self.y_idx)\n",
    "            \n",
    "        return pred"
   ]
  },
  {
   "cell_type": "markdown",
   "id": "46434c61-62f7-4596-b204-bd9f9bd8798e",
   "metadata": {},
   "source": [
    "### Train and test function."
   ]
  },
  {
   "cell_type": "code",
   "execution_count": 19,
   "id": "dc609d07-8c58-4668-91f3-e94d23b8fc96",
   "metadata": {},
   "outputs": [],
   "source": [
    "def rewrite_train_one_epoch(X_train,\n",
    "                            y_train,\n",
    "                            test_ratio,\n",
    "                            alpha,\n",
    "                            threshold,\n",
    "                            num_neuron,\n",
    "                            model,\n",
    "                           ):\n",
    "    \n",
    "    train_cost = 0.0\n",
    "    train_cost_avg = 0.0\n",
    "    val_cost = 0.0\n",
    "    val_cost_avg = 0.0\n",
    "    iters = 0\n",
    "    \n",
    "    J_curr = 0.0\n",
    "     \n",
    "    # load training and validation dataset\n",
    "    X_train, X_val, y_train, y_val = split_train_test(X_train, y_train, test_ratio = test_ratio)\n",
    "    \n",
    "    # normalize dataset\n",
    "    X_train = zero_one_normalize(X_train)\n",
    "    X_val = zero_one_normalize(X_val)\n",
    "        \n",
    "    # training\n",
    "    for j in tqdm(range(len(X_train))):\n",
    "        iters += 1\n",
    "        \n",
    "        idx = random.randrange(0, len(X_train), 1)\n",
    "        x_train_idx = X_train[idx]\n",
    "        y_train_idx = y_train[idx][0]\n",
    "                \n",
    "        mymodel.fit(x_train_idx, y_train_idx)\n",
    "        pred = mymodel.predict(x_train_idx)\n",
    "        J_curr = -(y_train_idx * math.log(pred + epsilon) + (1 - y_train_idx) * math.log(1 - pred + epsilon))\n",
    "        \n",
    "        train_cost += J_curr\n",
    "        \n",
    "    # validation\n",
    "    for i in tqdm(range(len(X_val))):\n",
    "        idx = random.randrange(0, len(X_val), 1)\n",
    "        x_val_idx = X_val[idx]\n",
    "        y_val_idx = y_val[idx][0]\n",
    "        \n",
    "        pred = mymodel.predict(x_val_idx)\n",
    "        J_curr = -(y_val_idx * math.log(pred + epsilon) + (1 - y_val_idx) * math.log(1 - pred + epsilon))\n",
    "        \n",
    "        val_cost += J_curr\n",
    "    \n",
    "    # calculate the mean cost of training and validation\n",
    "    train_cost_avg = train_cost / len(X_train)\n",
    "    val_cost_avg = val_cost / len(X_val)\n",
    "    \n",
    "    return train_cost_avg, val_cost_avg"
   ]
  },
  {
   "cell_type": "code",
   "execution_count": 20,
   "id": "15a11eb5-c372-41e2-9ae1-f80261eef115",
   "metadata": {},
   "outputs": [],
   "source": [
    "def rewrite_train_multiple_epochs(X_train,\n",
    "                                 y_train,\n",
    "                                 test_ratio,\n",
    "                                 alpha,\n",
    "                                 #max_iterations,\n",
    "                                 threshold,\n",
    "                                 num_neuron,\n",
    "                                 num_epoch,\n",
    "                                 model,\n",
    "                                 ):\n",
    "    \n",
    "    train_cost_avg_hist = []\n",
    "    val_cost_avg_hist = []\n",
    "        \n",
    "    for epoch in range(num_epoch):\n",
    "        train_cost_avg, val_cost_avg = rewrite_train_one_epoch(X_train=X_train,\n",
    "                                                               y_train=y_train,\n",
    "                                                               test_ratio=test_ratio,\n",
    "                                                               alpha=alpha,\n",
    "                                                               #max_iterations=max_iterations,\n",
    "                                                               threshold=threshold,\n",
    "                                                               num_neuron=num_neuron,\n",
    "                                                               model = mymodel,\n",
    "                                                              )\n",
    "        \n",
    "        \n",
    "        print(f\"Epoch [{epoch+1}/{num_epoch}]: Train mean cost: {train_cost_avg}, Validation mean cost: {val_cost_avg}\")\n",
    "        \n",
    "        train_cost_avg_hist.append(train_cost_avg)\n",
    "        val_cost_avg_hist.append(val_cost_avg)\n",
    "        \n",
    "        if epoch > 1:\n",
    "            if abs(train_cost_avg_hist[-1] - train_cost_avg_hist[-2]) <= threshold:\n",
    "                break\n",
    "    \n",
    "    # plot\n",
    "    plt.plot(train_cost_avg_hist)\n",
    "    plt.plot(val_cost_avg_hist)\n",
    "    plt.title('model loss')\n",
    "    plt.ylabel('mean loss')\n",
    "    plt.xlabel('epoch')\n",
    "    plt.legend(['train', 'val'], loc='upper left')\n",
    "    plt.show() "
   ]
  },
  {
   "cell_type": "code",
   "execution_count": 21,
   "id": "b52576c3-f64d-4e50-bc13-1baac71ee2f3",
   "metadata": {},
   "outputs": [],
   "source": [
    "def rewrite_test(X_test, y_test, model, \n",
    "                 classifier_threshold\n",
    "                ):\n",
    "    cost = []\n",
    "    preds = []\n",
    "    X_test = zero_one_normalize(X_test)\n",
    "    #random.seed(seed)\n",
    "    \n",
    "    for i in range(len(X_test)):\n",
    "        idx = random.randrange(0, len(X_test), 1)\n",
    "        x_test_idx = X_test[idx]\n",
    "        y_test_idx = y_test[idx][0]\n",
    "        pred = mymodel.predict(x_test_idx)\n",
    "        J_curr = -(y_test_idx * math.log(pred + epsilon) + (1 - y_test_idx) * math.log(1 - pred + epsilon)) \n",
    "\n",
    "        #cost.append(abs(J_curr))\n",
    "        cost.append(J_curr)\n",
    "        preds.append(pred)\n",
    "        \n",
    "    #print(f\"\\n\\nThe mean cost of test dataset is {sum(cost) / len(X_test)}\\n\")\n",
    "    \n",
    "    # confusion matrix\n",
    "    precision, recall, accuracy, f1 = evaluate(preds, y_test, classifier_threshold=classifier_threshold)\n",
    "    \n",
    "    print(f\"\\n\\nClassification report:  precision: {precision:.2f}, recall: {recall:.2f}, accuracy: {accuracy:.2f}, f1: {f1:.2f}\\n\")"
   ]
  },
  {
   "cell_type": "code",
   "execution_count": 22,
   "id": "d6bab3c8-bcbd-4687-8928-c731fc8a869a",
   "metadata": {},
   "outputs": [],
   "source": [
    "def evaluate(preds, y, classifier_threshold):\n",
    "    \n",
    "    assert(len(preds) == len(y))\n",
    "    \n",
    "    tp = 0.0\n",
    "    tn = 0.0\n",
    "    fp = 0.0\n",
    "    fn = 0.0\n",
    "    \n",
    "    preds_label = 0\n",
    "    preds_labels = []\n",
    "    \n",
    "    for i, pred in enumerate(preds):\n",
    "        if abs(pred - y[i]) <= 0.5:\n",
    "            preds_label = y[i]\n",
    "            preds_labels.append(preds_label)\n",
    "            \n",
    "    for i, preds_label in enumerate(preds_labels):\n",
    "        if preds_label == y[i] == 0:\n",
    "            tp += 1\n",
    "        elif preds_label == y[i] == 1:\n",
    "            tn += 1\n",
    "        elif preds_label == 0 and y[i] == 1:\n",
    "            fp += 1\n",
    "        elif preds_label == 1 and y[i] == 0:\n",
    "            fn += 1\n",
    "    \n",
    "    precision = tp / (tp + fp)\n",
    "    recall = tp / (tp + fn)\n",
    "    accuracy = (tp + tn) / (tp + tn + fp + fn)\n",
    "    f1 = (2 * tp) / (2 * tp + fp + fn)\n",
    "    \n",
    "    return precision, recall, accuracy, f1"
   ]
  },
  {
   "cell_type": "markdown",
   "id": "03babf70-9c71-41db-8e18-cbbe322d2e72",
   "metadata": {},
   "source": [
    "#### 3.3.1 Train and test on the Blobs datasets"
   ]
  },
  {
   "cell_type": "code",
   "execution_count": 23,
   "id": "214f85cc-52df-4303-8530-db974b50cc9c",
   "metadata": {},
   "outputs": [
    {
     "name": "stdout",
     "output_type": "stream",
     "text": [
      "(340, 3) (340, 1) (60, 3) (60, 1)\n",
      "X.shape = (400, 3), y.shape = (400, 1), Classes = [0 1]\n"
     ]
    }
   ],
   "source": [
    "# load blobs dataset (linearly separable data) \n",
    "X, y = loadDataset('blobs400.csv', transpose=True)\n",
    "\n",
    "# split it into train, validation and test dataset \n",
    "X_train, X_test, y_train, y_test = split_train_test(X, y, test_ratio=test_ratio)\n",
    "\n",
    "print(X_train.shape, y_train.shape, X_test.shape, y_test.shape)\n",
    "print(f\"X.shape = {X.shape}, y.shape = {y.shape}, Classes = {np.unique(y)}\")"
   ]
  },
  {
   "cell_type": "code",
   "execution_count": 24,
   "id": "b489bdfc-a400-4c9a-bab9-bd8794dadee3",
   "metadata": {},
   "outputs": [
    {
     "name": "stderr",
     "output_type": "stream",
     "text": [
      "100%|█████████████████████████████████████████████████████████████████████████████████████████| 289/289 [00:00<00:00, 8057.34it/s]\n",
      "100%|██████████████████████████████████████████████████████████████████████████████████████████| 51/51 [00:00<00:00, 26900.09it/s]\n"
     ]
    },
    {
     "name": "stdout",
     "output_type": "stream",
     "text": [
      "Epoch [1/5]: Train mean cost: 0.868436839347877, Validation mean cost: 0.9372105334237756\n"
     ]
    },
    {
     "name": "stderr",
     "output_type": "stream",
     "text": [
      "100%|█████████████████████████████████████████████████████████████████████████████████████████| 289/289 [00:00<00:00, 7383.12it/s]\n",
      "100%|██████████████████████████████████████████████████████████████████████████████████████████| 51/51 [00:00<00:00, 29282.62it/s]\n"
     ]
    },
    {
     "name": "stdout",
     "output_type": "stream",
     "text": [
      "Epoch [2/5]: Train mean cost: 0.8983316219857614, Validation mean cost: 0.90279226305294\n"
     ]
    },
    {
     "name": "stderr",
     "output_type": "stream",
     "text": [
      "100%|█████████████████████████████████████████████████████████████████████████████████████████| 289/289 [00:00<00:00, 7755.65it/s]\n",
      "100%|██████████████████████████████████████████████████████████████████████████████████████████| 51/51 [00:00<00:00, 31564.04it/s]\n"
     ]
    },
    {
     "name": "stdout",
     "output_type": "stream",
     "text": [
      "Epoch [3/5]: Train mean cost: 0.939694299942351, Validation mean cost: 0.8299567550223383\n"
     ]
    },
    {
     "name": "stderr",
     "output_type": "stream",
     "text": [
      "100%|█████████████████████████████████████████████████████████████████████████████████████████| 289/289 [00:00<00:00, 7157.01it/s]\n",
      "100%|██████████████████████████████████████████████████████████████████████████████████████████| 51/51 [00:00<00:00, 34434.88it/s]\n"
     ]
    },
    {
     "name": "stdout",
     "output_type": "stream",
     "text": [
      "Epoch [4/5]: Train mean cost: 0.8437660528465916, Validation mean cost: 0.8877861520048819\n"
     ]
    },
    {
     "name": "stderr",
     "output_type": "stream",
     "text": [
      "100%|█████████████████████████████████████████████████████████████████████████████████████████| 289/289 [00:00<00:00, 7294.49it/s]\n",
      "100%|██████████████████████████████████████████████████████████████████████████████████████████| 51/51 [00:00<00:00, 12491.07it/s]\n"
     ]
    },
    {
     "name": "stdout",
     "output_type": "stream",
     "text": [
      "Epoch [5/5]: Train mean cost: 0.9069323749712732, Validation mean cost: 0.678437392613295\n"
     ]
    },
    {
     "data": {
      "image/png": "[encoded data removed]",
      "text/plain": [
       "<Figure size 640x480 with 1 Axes>"
      ]
     },
     "metadata": {},
     "output_type": "display_data"
    }
   ],
   "source": [
    "# create a model\n",
    "mymodel = ShallowNN(num_neuron = num_neuron)\n",
    "\n",
    "# train and validation\n",
    "rewrite_train_multiple_epochs(X_train=X_train,\n",
    "                            y_train=y_train,\n",
    "                            test_ratio=test_ratio,\n",
    "                            alpha=alpha,\n",
    "                            #max_iterations=max_iterations,\n",
    "                            threshold=threshold,\n",
    "                            num_neuron=num_neuron,\n",
    "                            num_epoch = num_epoch,\n",
    "                            model = mymodel,\n",
    "                            #seed = seed\n",
    "                             )"
   ]
  },
  {
   "cell_type": "code",
   "execution_count": 25,
   "id": "62b03216-274d-4095-b3af-c17f9c8c57e5",
   "metadata": {},
   "outputs": [
    {
     "name": "stdout",
     "output_type": "stream",
     "text": [
      "\n",
      "\n",
      "Classification report:  precision: 0.33, recall: 0.38, accuracy: 0.31, f1: 0.36\n",
      "\n"
     ]
    }
   ],
   "source": [
    "# evaluation\n",
    "rewrite_test(X_test, y_test, mymodel, \n",
    "             classifier_threshold=classifier_threshold\n",
    "            )"
   ]
  },
  {
   "cell_type": "markdown",
   "id": "cfdc8ee9-cdf3-4d91-88be-ada2b51aecc3",
   "metadata": {},
   "source": [
    "We apply the model with one hidden layer and three neural nodes to the Blobs dataset, the precision value of the model is $0.33$, the recall value of the model is $0.38$, the accuracy value of the model is $0.31$, the f1 value of the model is $0.36$."
   ]
  },
  {
   "cell_type": "markdown",
   "id": "1db24e73-4cbb-4ec4-87fa-531b156bbc26",
   "metadata": {},
   "source": [
    "#### 3.3.2 Train and test on the Moons datasets"
   ]
  },
  {
   "cell_type": "code",
   "execution_count": 26,
   "id": "4bc78bf0-f316-4a51-909d-4bb26dd4b09d",
   "metadata": {},
   "outputs": [
    {
     "name": "stdout",
     "output_type": "stream",
     "text": [
      "(425, 2) (425, 1) (75, 2) (75, 1)\n",
      "X.shape = (500, 2), y.shape = (500, 1), Classes = [0 1]\n"
     ]
    }
   ],
   "source": [
    "# load moon dataset (not linearly separable)\n",
    "X, y = loadDataset('moons500.csv', transpose=True)\n",
    "\n",
    "# split it into train, validation and test dataset \n",
    "X_train, X_test, y_train, y_test = split_train_test(X, y, test_ratio=test_ratio)\n",
    "\n",
    "print(X_train.shape, y_train.shape, X_test.shape, y_test.shape)\n",
    "print(f\"X.shape = {X.shape}, y.shape = {y.shape}, Classes = {np.unique(y)}\")"
   ]
  },
  {
   "cell_type": "code",
   "execution_count": 27,
   "id": "3641ab42-aeb4-426e-b2dd-24a4c4ca3561",
   "metadata": {},
   "outputs": [
    {
     "name": "stderr",
     "output_type": "stream",
     "text": [
      "100%|█████████████████████████████████████████████████████████████████████████████████████████| 362/362 [00:00<00:00, 5741.95it/s]\n",
      "100%|██████████████████████████████████████████████████████████████████████████████████████████| 63/63 [00:00<00:00, 14065.85it/s]\n"
     ]
    },
    {
     "name": "stdout",
     "output_type": "stream",
     "text": [
      "Epoch [1/5]: Train mean cost: 0.8974864964047837, Validation mean cost: 0.869529421068279\n"
     ]
    },
    {
     "name": "stderr",
     "output_type": "stream",
     "text": [
      "100%|█████████████████████████████████████████████████████████████████████████████████████████| 362/362 [00:00<00:00, 7557.57it/s]\n",
      "100%|██████████████████████████████████████████████████████████████████████████████████████████| 63/63 [00:00<00:00, 22744.12it/s]\n"
     ]
    },
    {
     "name": "stdout",
     "output_type": "stream",
     "text": [
      "Epoch [2/5]: Train mean cost: 0.8886229939169044, Validation mean cost: 1.0407107221359058\n"
     ]
    },
    {
     "name": "stderr",
     "output_type": "stream",
     "text": [
      "100%|█████████████████████████████████████████████████████████████████████████████████████████| 362/362 [00:00<00:00, 7892.23it/s]\n",
      "100%|██████████████████████████████████████████████████████████████████████████████████████████| 63/63 [00:00<00:00, 35960.96it/s]\n"
     ]
    },
    {
     "name": "stdout",
     "output_type": "stream",
     "text": [
      "Epoch [3/5]: Train mean cost: 0.9222827915929938, Validation mean cost: 0.8846720245512715\n"
     ]
    },
    {
     "name": "stderr",
     "output_type": "stream",
     "text": [
      "100%|████████████████████████████████████████████████████████████████████████████████████████| 362/362 [00:00<00:00, 10353.48it/s]\n",
      "100%|██████████████████████████████████████████████████████████████████████████████████████████| 63/63 [00:00<00:00, 31079.88it/s]\n"
     ]
    },
    {
     "name": "stdout",
     "output_type": "stream",
     "text": [
      "Epoch [4/5]: Train mean cost: 0.9631360516048343, Validation mean cost: 0.7661741615644899\n"
     ]
    },
    {
     "name": "stderr",
     "output_type": "stream",
     "text": [
      "100%|████████████████████████████████████████████████████████████████████████████████████████| 362/362 [00:00<00:00, 10997.35it/s]\n",
      "100%|██████████████████████████████████████████████████████████████████████████████████████████| 63/63 [00:00<00:00, 51629.77it/s]\n"
     ]
    },
    {
     "name": "stdout",
     "output_type": "stream",
     "text": [
      "Epoch [5/5]: Train mean cost: 0.8736695048883883, Validation mean cost: 0.8534642612846575\n"
     ]
    },
    {
     "data": {
      "image/png": "[encoded data removed]",
      "text/plain": [
       "<Figure size 640x480 with 1 Axes>"
      ]
     },
     "metadata": {},
     "output_type": "display_data"
    }
   ],
   "source": [
    "# create a model\n",
    "mymodel = ShallowNN(num_neuron = num_neuron)\n",
    "\n",
    "# train and validation\n",
    "rewrite_train_multiple_epochs(X_train=X_train,\n",
    "                            y_train=y_train,\n",
    "                            test_ratio=test_ratio,\n",
    "                            alpha=alpha,\n",
    "                            #max_iterations=max_iterations,\n",
    "                            threshold=threshold,\n",
    "                            num_neuron=num_neuron,\n",
    "                            num_epoch = num_epoch,\n",
    "                            model = mymodel,\n",
    "                            )"
   ]
  },
  {
   "cell_type": "code",
   "execution_count": 28,
   "id": "53f34ccd-25c9-4f7e-b91a-e021cabd94f2",
   "metadata": {},
   "outputs": [
    {
     "name": "stdout",
     "output_type": "stream",
     "text": [
      "\n",
      "\n",
      "Classification report:  precision: 0.55, recall: 0.58, accuracy: 0.45, f1: 0.56\n",
      "\n"
     ]
    }
   ],
   "source": [
    "# evaluation\n",
    "rewrite_test(X_test, y_test, mymodel, \n",
    "             classifier_threshold=classifier_threshold\n",
    "            )"
   ]
  },
  {
   "cell_type": "markdown",
   "id": "4c66d848-c045-485b-bb81-5a255f011807",
   "metadata": {},
   "source": [
    "We apply the model with one hidden layer and three neural nodes to the Moons dataset, the precision value of the model is $0.55$, the recall value of the model is $0.58$, the accuracy value of the model is $0.45$, the f1 value of the model is $0.56$."
   ]
  },
  {
   "cell_type": "markdown",
   "id": "8537b5ce-b75e-4344-ba74-592051fffa5b",
   "metadata": {},
   "source": [
    "## Part 4 – Challenging Task: 3 marks\n",
    "\n",
    "* 1: Code to read in the big dataset, and sample subsets for training, validation and testing. \n",
    "\n",
    "* 1: Train the NN, tune on the validation set if required, and test on the test set.\n",
    "\n",
    "* 1: Present results and make observations on your testing.\n"
   ]
  },
  {
   "cell_type": "markdown",
   "id": "eac9dc44-4f8c-41d6-a0bd-cbe4855476a9",
   "metadata": {},
   "source": [
    "### 4.1 Load data and data preprocessing\n",
    "\n",
    "#### 4.1.1 Load data"
   ]
  },
  {
   "cell_type": "code",
   "execution_count": 29,
   "id": "4749ed9f-8bc2-4673-a44c-5a55cf43a79e",
   "metadata": {},
   "outputs": [],
   "source": [
    "# This function taken directly from the Fashion-MNIST github site: \n",
    "# https://github.com/zalandoresearch/fashion-mnist/blob/master/utils/mnist_reader.py\n",
    "\n",
    "import gzip\n",
    "import os\n",
    "\n",
    "def load_fashion_mnist(path=\"fashion_mnist_data\", kind='train'):\n",
    "    \n",
    "    labels_path = os.path.join(path,\n",
    "                               '%s-labels-idx1-ubyte.gz'\n",
    "                               % kind)\n",
    "    \n",
    "    images_path = os.path.join(path,\n",
    "                               '%s-images-idx3-ubyte.gz'\n",
    "                               % kind)\n",
    "    \n",
    "    with gzip.open(labels_path, 'rb') as lbpath:\n",
    "        labels = np.frombuffer(lbpath.read(), dtype=np.uint8,\n",
    "                              offset=8)\n",
    "    with gzip.open(images_path, 'rb') as imgpath:\n",
    "        images = np.frombuffer(imgpath.read(), dtype=np.uint8,\n",
    "                              offset=16).reshape(len(labels), 784) # each image is 28x28 = 784 pixels.\n",
    "        \n",
    "    return images, labels"
   ]
  },
  {
   "cell_type": "code",
   "execution_count": 30,
   "id": "30ff9fe7-9f60-4c1a-8b11-860d339b0e11",
   "metadata": {},
   "outputs": [
    {
     "name": "stdout",
     "output_type": "stream",
     "text": [
      "Shape of images is (60000, 784), labels is (60000,)\n",
      "Shape of images is (10000, 784), labels is (10000,)\n"
     ]
    }
   ],
   "source": [
    "(train60k_imgs, train60k_labels) = load_fashion_mnist(path=\"fashion_mnist_data\", kind='train')\n",
    "print(f\"Shape of images is {train60k_imgs.shape}, labels is {train60k_labels.shape}\")\n",
    "\n",
    "(t10k_imgs, t10k_labels) = load_fashion_mnist(path=\"fashion_mnist_data\", kind='t10k')\n",
    "print(f\"Shape of images is {t10k_imgs.shape}, labels is {t10k_labels.shape}\")"
   ]
  },
  {
   "cell_type": "markdown",
   "id": "505e6b77-b076-4561-bf76-3a667ab7a23a",
   "metadata": {},
   "source": [
    "#### Extract and combine the data with certain pair of classes - Shirt and Bag - from original data to create a new training data."
   ]
  },
  {
   "cell_type": "code",
   "execution_count": 31,
   "id": "d3a7900e-cc14-4c4b-ac45-abdf70acff6d",
   "metadata": {},
   "outputs": [],
   "source": [
    "label_names = ['T-shirt/top', 'Trouser' , 'Pullover', 'Dress', 'Coat', 'Sandal', 'Shirt', 'Sneaker', 'Bag', 'Ankle boot']"
   ]
  },
  {
   "cell_type": "code",
   "execution_count": 32,
   "id": "3804d4c7-70fd-4686-8fa3-7d5326e93626",
   "metadata": {},
   "outputs": [],
   "source": [
    "def load_shirt_bag_data(X, y, shirt_label, bag_label):\n",
    "    \n",
    "    shirt_labels_idx = np.where(y==shirt_label)[0]\n",
    "    bag_labels_idx = np.where(y==bag_label)[0]\n",
    "    \n",
    "    shirts = []\n",
    "    bags = []\n",
    "    \n",
    "    for idx in shirt_labels_idx:\n",
    "        shirts.append(X[idx])\n",
    "\n",
    "    shirts = np.array(shirts)\n",
    "      \n",
    "    for idx in bag_labels_idx:\n",
    "        bags.append(X[idx])\n",
    "\n",
    "    bags = np.array(bags)\n",
    "    \n",
    "    shirt_labels = np.ones((shirts.shape[0],)) # labels are 1s\n",
    "    bag_labels = np.zeros((bags.shape[0],)) # labels are 0s\n",
    "    \n",
    "    X_conbined = np.concatenate((bags, shirts))\n",
    "    y_conbined = np.concatenate((bag_labels, shirt_labels))\n",
    "\n",
    "    return X_conbined, y_conbined"
   ]
  },
  {
   "cell_type": "code",
   "execution_count": 33,
   "id": "60fbf0cf-fde6-41c6-ab8d-46b916d953da",
   "metadata": {},
   "outputs": [],
   "source": [
    "train_X_combined, train_y_combined = load_shirt_bag_data(X=train60k_imgs, y=train60k_labels, shirt_label=6, bag_label=8)"
   ]
  },
  {
   "cell_type": "code",
   "execution_count": 34,
   "id": "63701038-57d9-4236-a65c-74972ae7a308",
   "metadata": {},
   "outputs": [],
   "source": [
    "test_X_combined, test_y_combined = load_shirt_bag_data(X=t10k_imgs, y=t10k_labels, shirt_label=6, bag_label=8)"
   ]
  },
  {
   "cell_type": "markdown",
   "id": "efdd5cbb-2f9a-452e-b9b0-16e277d390c2",
   "metadata": {},
   "source": [
    "#### 4.1.2 Sample subsets for training, validation and testing\n",
    "\n",
    "We don't need to split training dataset into training dataset and validation dataset here because we have written the split function in the training method code. Therefore, we take the subset of bags and shirts training dataset as input and feed them into our training process later."
   ]
  },
  {
   "cell_type": "code",
   "execution_count": 35,
   "id": "6680cb53-4da1-4d92-aff5-e800c0cc22f4",
   "metadata": {},
   "outputs": [
    {
     "name": "stdout",
     "output_type": "stream",
     "text": [
      "(12000, 784)\n",
      "(12000, 1)\n"
     ]
    }
   ],
   "source": [
    "X_train = train_X_combined\n",
    "y_train = train_y_combined.reshape(-1, 1)\n",
    "\n",
    "print(X_train.shape)\n",
    "print(y_train.shape)"
   ]
  },
  {
   "cell_type": "markdown",
   "id": "7e394f0e-c341-404f-a958-466e730de63d",
   "metadata": {},
   "source": [
    "We use test_X_combined and test_y_combined as our testing dataset."
   ]
  },
  {
   "cell_type": "code",
   "execution_count": 36,
   "id": "519fedaa-dd5f-4135-b789-3ec8257dcc2c",
   "metadata": {},
   "outputs": [
    {
     "name": "stdout",
     "output_type": "stream",
     "text": [
      "(2000, 784)\n",
      "(2000, 1)\n"
     ]
    }
   ],
   "source": [
    "X_test = test_X_combined\n",
    "y_test = test_y_combined.reshape(-1, 1)\n",
    "\n",
    "print(X_test.shape)\n",
    "print(y_test.shape)"
   ]
  },
  {
   "cell_type": "markdown",
   "id": "65c13bcb-35c0-4570-b6b2-b2e8d025e790",
   "metadata": {},
   "source": [
    "### 4.2 Train the NN, tune on the validation set if required, and test on the test set."
   ]
  },
  {
   "cell_type": "code",
   "execution_count": 37,
   "id": "87b093a0-270c-4694-a09d-eedef0e86cc1",
   "metadata": {},
   "outputs": [
    {
     "name": "stderr",
     "output_type": "stream",
     "text": [
      "100%|█████████████████████████████████████████████████████████████████████████████████████| 10200/10200 [2:03:17<00:00,  1.38it/s]\n",
      "100%|██████████████████████████████████████████████████████████████████████████████████████| 1800/1800 [00:00<00:00, 18734.00it/s]\n"
     ]
    },
    {
     "name": "stdout",
     "output_type": "stream",
     "text": [
      "Epoch [1/5]: Train mean cost: 0.9256926240542064, Validation mean cost: 0.9480018404474706\n"
     ]
    },
    {
     "name": "stderr",
     "output_type": "stream",
     "text": [
      "100%|█████████████████████████████████████████████████████████████████████████████████████| 10200/10200 [3:49:53<00:00,  1.35s/it]\n",
      "100%|██████████████████████████████████████████████████████████████████████████████████████| 1800/1800 [00:00<00:00, 19064.34it/s]\n"
     ]
    },
    {
     "name": "stdout",
     "output_type": "stream",
     "text": [
      "Epoch [2/5]: Train mean cost: 0.9277535046947244, Validation mean cost: 0.931864787264322\n"
     ]
    },
    {
     "name": "stderr",
     "output_type": "stream",
     "text": [
      "100%|█████████████████████████████████████████████████████████████████████████████████████| 10200/10200 [3:37:02<00:00,  1.28s/it]\n",
      "100%|██████████████████████████████████████████████████████████████████████████████████████| 1800/1800 [00:00<00:00, 17413.34it/s]\n"
     ]
    },
    {
     "name": "stdout",
     "output_type": "stream",
     "text": [
      "Epoch [3/5]: Train mean cost: 0.9220846367580479, Validation mean cost: 0.9636945562206323\n"
     ]
    },
    {
     "name": "stderr",
     "output_type": "stream",
     "text": [
      "100%|█████████████████████████████████████████████████████████████████████████████████████| 10200/10200 [1:39:32<00:00,  1.71it/s]\n",
      "100%|██████████████████████████████████████████████████████████████████████████████████████| 1800/1800 [00:00<00:00, 17618.73it/s]\n"
     ]
    },
    {
     "name": "stdout",
     "output_type": "stream",
     "text": [
      "Epoch [4/5]: Train mean cost: 0.9297842208947201, Validation mean cost: 0.892890054085527\n"
     ]
    },
    {
     "name": "stderr",
     "output_type": "stream",
     "text": [
      "100%|█████████████████████████████████████████████████████████████████████████████████████| 10200/10200 [1:41:28<00:00,  1.68it/s]\n",
      "100%|██████████████████████████████████████████████████████████████████████████████████████| 1800/1800 [00:00<00:00, 16738.12it/s]"
     ]
    },
    {
     "name": "stdout",
     "output_type": "stream",
     "text": [
      "Epoch [5/5]: Train mean cost: 0.9331130033410993, Validation mean cost: 0.913795935374961\n"
     ]
    },
    {
     "name": "stderr",
     "output_type": "stream",
     "text": [
      "\n"
     ]
    },
    {
     "data": {
      "image/png": "[encoded data removed]",
      "text/plain": [
       "<Figure size 640x480 with 1 Axes>"
      ]
     },
     "metadata": {},
     "output_type": "display_data"
    }
   ],
   "source": [
    "# create a model\n",
    "mymodel = ShallowNN(num_neuron = num_neuron)\n",
    "\n",
    "# train and validation\n",
    "rewrite_train_multiple_epochs(X_train=X_train,\n",
    "                            y_train=y_train,\n",
    "                            test_ratio=test_ratio,\n",
    "                            alpha=alpha,\n",
    "                            threshold=threshold,\n",
    "                            num_neuron=num_neuron,\n",
    "                            num_epoch = num_epoch,\n",
    "                            model = mymodel)"
   ]
  },
  {
   "cell_type": "markdown",
   "id": "f00c2581-acab-49c0-a544-1618543d6dc2",
   "metadata": {},
   "source": [
    "### 4.3 Present results and make observations on testing."
   ]
  },
  {
   "cell_type": "code",
   "execution_count": 38,
   "id": "da634e58-7cb0-408b-96eb-392e8fecff0c",
   "metadata": {},
   "outputs": [
    {
     "name": "stdout",
     "output_type": "stream",
     "text": [
      "\n",
      "\n",
      "Classification report:  precision: 1.00, recall: 0.50, accuracy: 0.50, f1: 0.67\n",
      "\n"
     ]
    }
   ],
   "source": [
    "# evaluation\n",
    "rewrite_test(X_test, y_test, mymodel, \n",
    "             classifier_threshold=classifier_threshold\n",
    "            )"
   ]
  },
  {
   "cell_type": "markdown",
   "id": "0e282882-7118-4e43-8670-3413723ee609",
   "metadata": {},
   "source": [
    "In this case, the model is a classifier of distinguishing bag class and shirt class. The model here is an instance of the Shallow model class with one hidden layer and three neural nodes. The dataset is balanced and we use 12,000 data for training and 2000 data for testing. The classification report on the test dataset ($2000$) is shown above. The precision value is $1.00$, the recall value is $0.50$, the accuracy value is $0.50$ and the f1 score is $0.67$."
   ]
  },
  {
   "cell_type": "markdown",
   "id": "67801bf4-d59e-4203-9b87-82eb7ed9e8ec",
   "metadata": {},
   "source": [
    "## Part 5 – Deep Learning Enhancements: 5 marks\n",
    "\n",
    "* 1: Brief description of your enhancement to the algorithm, including references used.\n",
    "\n",
    "* 3: Correct implementation of your enhancement.\n",
    "\n",
    "* 1: Preform new training and testing on the big dataset, present results, and make observations on your testing."
   ]
  },
  {
   "cell_type": "markdown",
   "id": "eeb2ca9b-d126-4a75-9790-9ea8ae22ec13",
   "metadata": {},
   "source": [
    "### 5.1 Brief description of your enhancement to the alhorithm.\n",
    "\n",
    "I use early stopping enhancement to the algorithm. In the early stage of Neural Network training, overfitting can become a problem as the training processes, even though it is far from converging. I apply the early stopping technique by storing the best parameter which leads to less loss after each validation training. Then store the best parameters ever at the end of training. In the testing process, the model can apply the best parameters to make a good performance.\n",
    "\n",
    "Reference: CT5133 Deep Learning"
   ]
  },
  {
   "cell_type": "markdown",
   "id": "33b012a6-c934-4533-89fd-15225cef257e",
   "metadata": {},
   "source": [
    "### 5.2 Rewrite the NN with arbitray number of hidden layers and arbitray number of nodes"
   ]
  },
  {
   "cell_type": "code",
   "execution_count": 39,
   "id": "1fea19d7-95e2-478b-a587-2d33f1eeac6e",
   "metadata": {},
   "outputs": [],
   "source": [
    "class MyNN():\n",
    "    \n",
    "    def __init__(self,\n",
    "                 num_neuron = num_neuron,\n",
    "                 num_hidden_layers = num_hidden_layers,\n",
    "                 **kwargs,\n",
    "                 ):\n",
    "        \n",
    "        self.num_neuron = num_neuron\n",
    "        self.num_hidden_layers = num_hidden_layers\n",
    "\n",
    "        self.a_list = []\n",
    "        self.srl_list = []\n",
    "        \n",
    "        for j in range(self.num_hidden_layers):\n",
    "            for i in range(self.num_neuron):\n",
    "                slr = SingleNeuronLR(output_layer=False)\n",
    "                self.srl_list.append(slr)\n",
    "        \n",
    "        # output layer with one neuron\n",
    "        self.output_slr = SingleNeuronLR(output_layer=True)\n",
    "        \n",
    "    def forward_propagation(self, x_idx, y_idx):\n",
    "        \n",
    "        for i in range(len(self.srl_list)):\n",
    "            self.w, self.b, self.z, self.a = self.srl_list[i].feedforward(x_idx, y_idx)\n",
    "            self.a_list.append(self.a)\n",
    "\n",
    "        self.w, self.b, self.z, self.a = self.output_slr.feedforward(x_idx=np.asarray(self.a_list[-self.num_neuron:]), y_idx=y_idx)\n",
    "        self.a_list.append(self.a)\n",
    "  \n",
    "            \n",
    "    def backpropagation(self):\n",
    "        \n",
    "        # output layer\n",
    "        self.output_slr.gradient_descent()\n",
    "        self.output_slr.update_parameters()\n",
    "        \n",
    "        # hidden layer\n",
    "        for i in range(len(self.srl_list)):\n",
    "            self.srl_list[i].gradient_descent()\n",
    "            self.srl_list[i].update_parameters()\n",
    "            \n",
    "\n",
    "    def fit(self, x_idx, y_idx):\n",
    "        \n",
    "        self.x_idx = x_idx\n",
    "        self.y_idx = y_idx\n",
    "        \n",
    "        self.forward_propagation(self.x_idx, self.y_idx)\n",
    "        self.backpropagation()\n",
    "        \n",
    "    \n",
    "    def predict(self, x_idx):\n",
    "        \n",
    "        # hidden layer\n",
    "        pred_hidden_list = []\n",
    "        for i in range(len(self.srl_list)):\n",
    "            _, _, _, pred_hidden = self.srl_list[i].feedforward(x_idx= x_idx, y_idx=self.y_idx)\n",
    "            pred_hidden_list.append(pred_hidden)\n",
    "            \n",
    "        # output layer\n",
    "        _, _, _, pred = self.output_slr.feedforward(x_idx = np.asarray(pred_hidden_list), y_idx=self.y_idx)\n",
    "            \n",
    "        return pred"
   ]
  },
  {
   "cell_type": "markdown",
   "id": "7dddf072-4715-41de-ab01-f566327338dd",
   "metadata": {},
   "source": [
    "### 5.3 Deep Learning Enhancements\n",
    "\n",
    "I use early stoppong in this case."
   ]
  },
  {
   "cell_type": "code",
   "execution_count": 40,
   "id": "25d7c3fb-b4a4-4e50-a611-04ee873205db",
   "metadata": {
    "tags": []
   },
   "outputs": [],
   "source": [
    "def train_one_epoch_early_stopping(X_train,\n",
    "                                    y_train,\n",
    "                                    test_ratio,\n",
    "                                    alpha,\n",
    "                                    threshold,\n",
    "                                    num_neuron,\n",
    "                                    model,\n",
    "                                   ):\n",
    "    \n",
    "    train_cost = 0.0\n",
    "    train_cost_avg = 0.0\n",
    "    val_cost = 0.0\n",
    "    val_cost_avg = 0.0\n",
    "    iters = 0\n",
    "    \n",
    "    J_curr = 0.0\n",
    "    J_prev = [] # early_stopping\n",
    "    best_param = [] # early_stopping\n",
    "            \n",
    " \n",
    "    # load training and validation dataset\n",
    "    X_train, X_val, y_train, y_val = split_train_test(X_train, y_train, test_ratio = test_ratio)\n",
    "    \n",
    "    # normalize dataset\n",
    "    X_train = zero_one_normalize(X_train)\n",
    "    X_val = zero_one_normalize(X_val)\n",
    "    \n",
    "        \n",
    "    # training\n",
    "    for j in tqdm(range(len(X_train))):\n",
    "        \n",
    "        iters += 1\n",
    "        \n",
    "        idx = random.randrange(0, len(X_train), 1)\n",
    "        x_train_idx = X_train[idx]\n",
    "        y_train_idx = y_train[idx][0]\n",
    "                \n",
    "        mymodel.fit(x_train_idx, y_train_idx)\n",
    "        pred = mymodel.predict(x_train_idx)\n",
    "        J_curr = -(y_train_idx * math.log(pred + epsilon) + (1 - y_train_idx) * math.log(1 - pred + epsilon))\n",
    "        \n",
    "        train_cost += J_curr\n",
    "                      \n",
    "        \n",
    "    # validation\n",
    "    for i in tqdm(range(len(X_val))):\n",
    "        \n",
    "        idx = random.randrange(0, len(X_val), 1)\n",
    "        x_val_idx = X_val[idx]\n",
    "        y_val_idx = y_val[idx][0]\n",
    "        \n",
    "        pred = mymodel.predict(x_val_idx)\n",
    "        J_curr = -(y_val_idx * math.log(pred + epsilon) + (1 - y_val_idx) * math.log(1 - pred + epsilon))\n",
    "        \n",
    "        val_cost += J_curr\n",
    "        \n",
    "        if len(J_prev) >= 1: # early_stopping\n",
    "            if J_curr < J_prev[0]:\n",
    "                best_param = mymodel.srl_list\n",
    "        \n",
    "        J_prev.append(J_curr)\n",
    "    \n",
    "    # calculate the mean cost of training and validation\n",
    "    train_cost_avg = train_cost / len(X_train)\n",
    "    val_cost_avg = val_cost / len(X_val)\n",
    "    \n",
    "    return train_cost_avg, val_cost_avg, best_param"
   ]
  },
  {
   "cell_type": "code",
   "execution_count": 41,
   "id": "e9ab5f93-86f1-4652-924f-0201e95d58aa",
   "metadata": {},
   "outputs": [],
   "source": [
    "def train_multiple_epoch_early_stopping(X_train,\n",
    "                                         y_train,\n",
    "                                         test_ratio,\n",
    "                                         alpha,\n",
    "                                         threshold,\n",
    "                                         num_neuron,\n",
    "                                         num_epoch,\n",
    "                                         model,\n",
    "                                         ):\n",
    "    \n",
    "    train_cost_avg_hist = []\n",
    "    val_cost_avg_hist = []\n",
    "        \n",
    "    for epoch in range(num_epoch):\n",
    "        \n",
    "        train_cost_avg, val_cost_avg, best_param = train_one_epoch_early_stopping(X_train=X_train,\n",
    "                                                                                   y_train=y_train,\n",
    "                                                                                   test_ratio=test_ratio,\n",
    "                                                                                   alpha=alpha,\n",
    "                                                                                   threshold=threshold,\n",
    "                                                                                   num_neuron=num_neuron,\n",
    "                                                                                   model = mymodel,\n",
    "                                                                                  )\n",
    "        \n",
    "        \n",
    "        print(f\"Epoch [{epoch+1}/{num_epoch}]: Train mean cost: {train_cost_avg}, Validation mean cost: {val_cost_avg}\")\n",
    "        \n",
    "        train_cost_avg_hist.append(train_cost_avg)\n",
    "        val_cost_avg_hist.append(val_cost_avg)\n",
    "        \n",
    "        if epoch > 1:\n",
    "            if abs(train_cost_avg_hist[-1] - train_cost_avg_hist[-2]) <= threshold:\n",
    "                break\n",
    "        \n",
    "    # plot\n",
    "    plt.plot(train_cost_avg_hist)\n",
    "    plt.plot(val_cost_avg_hist)\n",
    "    plt.title('model loss')\n",
    "    plt.ylabel('mean loss')\n",
    "    plt.xlabel('epoch')\n",
    "    plt.legend(['train', 'val'], loc='upper left')\n",
    "    plt.show() \n",
    "    \n",
    "    return best_param"
   ]
  },
  {
   "cell_type": "code",
   "execution_count": 42,
   "id": "7800104e-c02a-41ed-ba05-014d0a4a7318",
   "metadata": {},
   "outputs": [],
   "source": [
    "def test_early_stopping(X_test, y_test, model, \n",
    "                         classifier_threshold,\n",
    "                         best_param\n",
    "                        ):\n",
    "    cost = []\n",
    "    preds = []\n",
    "    X_test = zero_one_normalize(X_test)\n",
    "    \n",
    "    if len(best_param) != 0:\n",
    "        model.srl_list = best_param # assign best parameters to the model\n",
    "    \n",
    "    for i in range(len(X_test)):\n",
    "        idx = random.randrange(0, len(X_test), 1)\n",
    "        x_test_idx = X_test[idx]\n",
    "        y_test_idx = y_test[idx][0]\n",
    "        pred = model.predict(x_test_idx)\n",
    "        J_curr = -(y_test_idx * math.log(pred + epsilon) + (1 - y_test_idx) * math.log(1 - pred + epsilon)) \n",
    "\n",
    "        #cost.append(abs(J_curr))\n",
    "        cost.append(J_curr)\n",
    "        preds.append(pred)\n",
    "            \n",
    "    # confusion matrix\n",
    "    precision, recall, accuracy, f1 = evaluate(preds, y_test, classifier_threshold=classifier_threshold)\n",
    "    \n",
    "    print(f\"\\n\\nClassification report:  precision: {precision:.2f}, recall: {recall:.2f}, accuracy: {accuracy:.2f}, f1: {f1:.2f}\\n\")"
   ]
  },
  {
   "cell_type": "markdown",
   "id": "c099a59d-76fc-4586-ab1d-d82bfdab027a",
   "metadata": {},
   "source": [
    "### 5.3 Train the new model on fashion mnist dataset"
   ]
  },
  {
   "cell_type": "code",
   "execution_count": 46,
   "id": "c6d6bd36-dcd9-4d2d-a09a-be906f94aa64",
   "metadata": {},
   "outputs": [
    {
     "name": "stdout",
     "output_type": "stream",
     "text": [
      "Shape of images is (60000, 784), labels is (60000,)\n",
      "Shape of images is (10000, 784), labels is (10000,)\n",
      "X_train.shape:  (12000, 784)\n",
      "y_train.shape:  (12000, 1)\n",
      "X_test.shape:  (2000, 784)\n",
      "y_test.shape:  (2000, 1)\n"
     ]
    }
   ],
   "source": [
    "# prepare data\n",
    "(train60k_imgs, train60k_labels) = load_fashion_mnist(path=\"fashion_mnist_data\", kind='train')\n",
    "print(f\"Shape of images is {train60k_imgs.shape}, labels is {train60k_labels.shape}\")\n",
    "\n",
    "(t10k_imgs, t10k_labels) = load_fashion_mnist(path=\"fashion_mnist_data\", kind='t10k')\n",
    "print(f\"Shape of images is {t10k_imgs.shape}, labels is {t10k_labels.shape}\")\n",
    "\n",
    "label_names = ['T-shirt/top', 'Trouser' , 'Pullover', 'Dress', 'Coat', 'Sandal', 'Shirt', 'Sneaker', 'Bag', 'Ankle boot']\n",
    "\n",
    "\n",
    "train_X_combined, train_y_combined = load_shirt_bag_data(X=train60k_imgs, y=train60k_labels, shirt_label=6, bag_label=8)\n",
    "test_X_combined, test_y_combined = load_shirt_bag_data(X=t10k_imgs, y=t10k_labels, shirt_label=6, bag_label=8)\n",
    "\n",
    "X_train = train_X_combined\n",
    "y_train = train_y_combined.reshape(-1, 1)\n",
    "\n",
    "print(\"X_train.shape: \", X_train.shape)\n",
    "print(\"y_train.shape: \", y_train.shape)\n",
    "\n",
    "X_test = test_X_combined\n",
    "y_test = test_y_combined.reshape(-1, 1)\n",
    "\n",
    "print(\"X_test.shape: \", X_test.shape)\n",
    "print(\"y_test.shape: \", y_test.shape)"
   ]
  },
  {
   "cell_type": "code",
   "execution_count": 47,
   "id": "9cc0b794-7f6d-499c-9eac-8f6f41c7acf7",
   "metadata": {},
   "outputs": [
    {
     "name": "stderr",
     "output_type": "stream",
     "text": [
      "100%|█████████████████████████████████████████████████████████████████████████████████████| 10200/10200 [8:36:23<00:00,  3.04s/it]\n",
      "100%|███████████████████████████████████████████████████████████████████████████████████████| 1800/1800 [00:00<00:00, 6737.18it/s]\n"
     ]
    },
    {
     "name": "stdout",
     "output_type": "stream",
     "text": [
      "Epoch [1/5]: Train mean cost: 1.1545382150932217, Validation mean cost: 1.1468811246652735\n"
     ]
    },
    {
     "name": "stderr",
     "output_type": "stream",
     "text": [
      "100%|████████████████████████████████████████████████████████████████████████████████████| 10200/10200 [11:41:24<00:00,  4.13s/it]\n",
      "100%|███████████████████████████████████████████████████████████████████████████████████████| 1800/1800 [00:00<00:00, 6160.90it/s]\n"
     ]
    },
    {
     "name": "stdout",
     "output_type": "stream",
     "text": [
      "Epoch [2/5]: Train mean cost: 1.1371350844694865, Validation mean cost: 1.1785947006733353\n"
     ]
    },
    {
     "name": "stderr",
     "output_type": "stream",
     "text": [
      "100%|█████████████████████████████████████████████████████████████████████████████████████| 10200/10200 [7:26:39<00:00,  2.63s/it]\n",
      "100%|███████████████████████████████████████████████████████████████████████████████████████| 1800/1800 [00:00<00:00, 6757.40it/s]\n"
     ]
    },
    {
     "name": "stdout",
     "output_type": "stream",
     "text": [
      "Epoch [3/5]: Train mean cost: 1.1481183502637968, Validation mean cost: 1.174926783071488\n"
     ]
    },
    {
     "name": "stderr",
     "output_type": "stream",
     "text": [
      "100%|█████████████████████████████████████████████████████████████████████████████████████| 10200/10200 [6:39:33<00:00,  2.35s/it]\n",
      "100%|███████████████████████████████████████████████████████████████████████████████████████| 1800/1800 [00:00<00:00, 6709.18it/s]\n"
     ]
    },
    {
     "name": "stdout",
     "output_type": "stream",
     "text": [
      "Epoch [4/5]: Train mean cost: 1.1555086697948453, Validation mean cost: 1.147318552039889\n"
     ]
    },
    {
     "name": "stderr",
     "output_type": "stream",
     "text": [
      "100%|█████████████████████████████████████████████████████████████████████████████████████| 10200/10200 [9:34:43<00:00,  3.38s/it]\n",
      "100%|███████████████████████████████████████████████████████████████████████████████████████| 1800/1800 [00:00<00:00, 6868.84it/s]\n"
     ]
    },
    {
     "name": "stdout",
     "output_type": "stream",
     "text": [
      "Epoch [5/5]: Train mean cost: 1.1550685285510032, Validation mean cost: 1.088329965824504\n"
     ]
    },
    {
     "data": {
      "image/png": "[encoded data removed]",
      "text/plain": [
       "<Figure size 640x480 with 1 Axes>"
      ]
     },
     "metadata": {},
     "output_type": "display_data"
    }
   ],
   "source": [
    "# create a model\n",
    "mymodel = MyNN(num_neuron = num_neuron,\n",
    "               num_hidden_layers = num_hidden_layers,\n",
    "              )\n",
    "\n",
    "# train and validation\n",
    "best_param = train_multiple_epoch_early_stopping(X_train=X_train,\n",
    "                                                 y_train=y_train,\n",
    "                                                 test_ratio=test_ratio,\n",
    "                                                 alpha=alpha,\n",
    "                                                 threshold=threshold,\n",
    "                                                 num_neuron=num_neuron,\n",
    "                                                 num_epoch=num_epoch,\n",
    "                                                 model=mymodel,\n",
    "                                                 )"
   ]
  },
  {
   "cell_type": "markdown",
   "id": "adafa0c7-d918-4208-a00c-150047636a90",
   "metadata": {},
   "source": [
    "### 5.4 Test how well this works relative to the shallow NN on the image dataset"
   ]
  },
  {
   "cell_type": "code",
   "execution_count": 48,
   "id": "edc302fa-7e64-4866-9967-6c4337c2fea6",
   "metadata": {},
   "outputs": [
    {
     "name": "stdout",
     "output_type": "stream",
     "text": [
      "\n",
      "\n",
      "Classification report:  precision: 1.00, recall: 0.51, accuracy: 0.51, f1: 0.67\n",
      "\n"
     ]
    }
   ],
   "source": [
    "# evaluation\n",
    "test_early_stopping(X_test=X_test, \n",
    "                    y_test=y_test, \n",
    "                    model=mymodel, \n",
    "                    classifier_threshold=classifier_threshold,\n",
    "                    best_param=best_param\n",
    "                    )"
   ]
  },
  {
   "cell_type": "markdown",
   "id": "f146dee0-4f91-47b2-8832-74c8de0e74b9",
   "metadata": {},
   "source": [
    "There are three hidden layers and three neural nodes in the part 5 neural network model. The model is a classifier of distinguishing the bag class and the shirt class. The dataset is balanced and we use 12,000 data for training and 2000 data for testing. The classification report on the test dataset ($2000$) is shown above. The precision value is $1.00$, the recall value is $0.51$, the accuracy value is $0.51$ and the f1 score is $0.67$."
   ]
  },
  {
   "cell_type": "markdown",
   "id": "8a531241-0062-4e05-847e-8c6488fc5d2d",
   "metadata": {},
   "source": [
    "The shallow NN model is a classifier of distinguishing the bag class and the shirt class with one hidden layer and three neural nodes. The dataset is balanced and we use 12,000 data for training and 2000 data for testing. The classification report on the test dataset ($2000$) is shown above. The precision value is $1.00$, the recall value is $0.50$, the accuracy value is $0.50$ and the f1 score is $0.67$. Its accuracy value and precision value are slightly lower than the accuracy value and precision value of the MyNN model."
   ]
  }
 ],
 "metadata": {
  "kernelspec": {
   "display_name": "Python 3 (ipykernel)",
   "language": "python",
   "name": "python3"
  },
  "language_info": {
   "codemirror_mode": {
    "name": "ipython",
    "version": 3
   },
   "file_extension": ".py",
   "mimetype": "text/x-python",
   "name": "python",
   "nbconvert_exporter": "python",
   "pygments_lexer": "ipython3",
   "version": "3.9.16"
  }
 },
 "nbformat": 4,
 "nbformat_minor": 5
}
